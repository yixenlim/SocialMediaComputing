{
 "cells": [
  {
   "cell_type": "code",
   "execution_count": null,
   "metadata": {
    "colab": {
     "base_uri": "https://localhost:8080/"
    },
    "id": "vL9_PpRd7ig3",
    "outputId": "c399cb51-ace2-4555-d323-67e5e15f0297"
   },
   "outputs": [
    {
     "name": "stdout",
     "output_type": "stream",
     "text": [
      "Mounted at /content/drive\n"
     ]
    }
   ],
   "source": [
    "from google.colab import drive\n",
    "drive.mount('/content/drive')"
   ]
  },
  {
   "cell_type": "code",
   "execution_count": null,
   "metadata": {
    "id": "J7t7qAQc77lE"
   },
   "outputs": [],
   "source": [
    "import tweepy,json\n",
    "from tweepy import OAuthHandler\n",
    "import datetime,math\n",
    "from google.colab import files\n",
    "from dateutil.parser import parse\n",
    "import pytz,pandas as pd\n",
    "import seaborn as sns\n",
    "import matplotlib.pyplot as plt\n",
    "\n",
    "secrets = json.loads(open('/content/drive/MyDrive/twitter_secrets.json').read())\n",
    "consumer_key = secrets['consumer_key']\n",
    "consumer_secret = secrets['consumer_secret']\n",
    "access_token = secrets['access_token']\n",
    "access_token_secret = secrets['access_token_secret']\n",
    "screen_name = secrets['screen_name']\n",
    "\n",
    "auth = OAuthHandler(consumer_key, consumer_secret)\n",
    "auth.set_access_token(access_token, access_token_secret)\n",
    "api = tweepy.API(auth, wait_on_rate_limit=True)"
   ]
  },
  {
   "cell_type": "code",
   "execution_count": null,
   "metadata": {
    "id": "2V5uadi-Mtxw"
   },
   "outputs": [],
   "source": [
    "username_gsc = \"GSCinemas\"\n",
    "username_tgv = \"TGVCinemas\"\n",
    "username_mmc = \"mmCineplexes\""
   ]
  },
  {
   "cell_type": "markdown",
   "metadata": {
    "id": "xud0rE5AIoXn"
   },
   "source": [
    "# Part 1"
   ]
  },
  {
   "cell_type": "markdown",
   "metadata": {
    "id": "ree8AEpA-mEI"
   },
   "source": [
    "# Collect ALL tweets from 2022-03-07 to 2022-03-20 (can run one shot)\n",
    "\n",
    "---\n",
    "\n"
   ]
  },
  {
   "cell_type": "code",
   "execution_count": null,
   "metadata": {
    "colab": {
     "base_uri": "https://localhost:8080/",
     "height": 138
    },
    "id": "L6XXfks88Etg",
    "outputId": "b39bd14d-c1d9-4289-8e6d-9bdedaaf43f3"
   },
   "outputs": [
    {
     "name": "stdout",
     "output_type": "stream",
     "text": [
      "Last tweet collected was created at 2022-03-17 03:26:50 Retrieving more\n",
      "Last tweet collected was created at 2022-03-11 09:47:45 Retrieving more\n"
     ]
    },
    {
     "data": {
      "application/javascript": [
       "\n",
       "    async function download(id, filename, size) {\n",
       "      if (!google.colab.kernel.accessAllowed) {\n",
       "        return;\n",
       "      }\n",
       "      const div = document.createElement('div');\n",
       "      const label = document.createElement('label');\n",
       "      label.textContent = `Downloading \"${filename}\": `;\n",
       "      div.appendChild(label);\n",
       "      const progress = document.createElement('progress');\n",
       "      progress.max = size;\n",
       "      div.appendChild(progress);\n",
       "      document.body.appendChild(div);\n",
       "\n",
       "      const buffers = [];\n",
       "      let downloaded = 0;\n",
       "\n",
       "      const channel = await google.colab.kernel.comms.open(id);\n",
       "      // Send a message to notify the kernel that we're ready.\n",
       "      channel.send({})\n",
       "\n",
       "      for await (const message of channel.messages) {\n",
       "        // Send a message to notify the kernel that we're ready.\n",
       "        channel.send({})\n",
       "        if (message.buffers) {\n",
       "          for (const buffer of message.buffers) {\n",
       "            buffers.push(buffer);\n",
       "            downloaded += buffer.byteLength;\n",
       "            progress.value = downloaded;\n",
       "          }\n",
       "        }\n",
       "      }\n",
       "      const blob = new Blob(buffers, {type: 'application/binary'});\n",
       "      const a = document.createElement('a');\n",
       "      a.href = window.URL.createObjectURL(blob);\n",
       "      a.download = filename;\n",
       "      div.appendChild(a);\n",
       "      a.click();\n",
       "      div.remove();\n",
       "    }\n",
       "  "
      ],
      "text/plain": [
       "<IPython.core.display.Javascript object>"
      ]
     },
     "metadata": {},
     "output_type": "display_data"
    },
    {
     "data": {
      "application/javascript": [
       "download(\"download_2d8d62fc-32f1-4f41-8db0-52e2fe359b4e\", \"GSC_tweets.json\", 701303)"
      ],
      "text/plain": [
       "<IPython.core.display.Javascript object>"
      ]
     },
     "metadata": {},
     "output_type": "display_data"
    },
    {
     "name": "stdout",
     "output_type": "stream",
     "text": [
      "GSCinemas's all tweets downloaded.\n",
      "Last tweet collected was created at 2022-03-16 10:34:59 Retrieving more\n",
      "Last tweet collected was created at 2022-03-11 00:11:05 Retrieving more\n"
     ]
    },
    {
     "data": {
      "application/javascript": [
       "\n",
       "    async function download(id, filename, size) {\n",
       "      if (!google.colab.kernel.accessAllowed) {\n",
       "        return;\n",
       "      }\n",
       "      const div = document.createElement('div');\n",
       "      const label = document.createElement('label');\n",
       "      label.textContent = `Downloading \"${filename}\": `;\n",
       "      div.appendChild(label);\n",
       "      const progress = document.createElement('progress');\n",
       "      progress.max = size;\n",
       "      div.appendChild(progress);\n",
       "      document.body.appendChild(div);\n",
       "\n",
       "      const buffers = [];\n",
       "      let downloaded = 0;\n",
       "\n",
       "      const channel = await google.colab.kernel.comms.open(id);\n",
       "      // Send a message to notify the kernel that we're ready.\n",
       "      channel.send({})\n",
       "\n",
       "      for await (const message of channel.messages) {\n",
       "        // Send a message to notify the kernel that we're ready.\n",
       "        channel.send({})\n",
       "        if (message.buffers) {\n",
       "          for (const buffer of message.buffers) {\n",
       "            buffers.push(buffer);\n",
       "            downloaded += buffer.byteLength;\n",
       "            progress.value = downloaded;\n",
       "          }\n",
       "        }\n",
       "      }\n",
       "      const blob = new Blob(buffers, {type: 'application/binary'});\n",
       "      const a = document.createElement('a');\n",
       "      a.href = window.URL.createObjectURL(blob);\n",
       "      a.download = filename;\n",
       "      div.appendChild(a);\n",
       "      a.click();\n",
       "      div.remove();\n",
       "    }\n",
       "  "
      ],
      "text/plain": [
       "<IPython.core.display.Javascript object>"
      ]
     },
     "metadata": {},
     "output_type": "display_data"
    },
    {
     "data": {
      "application/javascript": [
       "download(\"download_35cd79b0-b5bc-4227-80fc-ddf351868c18\", \"TGV_tweets.json\", 1643700)"
      ],
      "text/plain": [
       "<IPython.core.display.Javascript object>"
      ]
     },
     "metadata": {},
     "output_type": "display_data"
    },
    {
     "name": "stdout",
     "output_type": "stream",
     "text": [
      "TGVCinemas's all tweets downloaded.\n"
     ]
    },
    {
     "data": {
      "application/javascript": [
       "\n",
       "    async function download(id, filename, size) {\n",
       "      if (!google.colab.kernel.accessAllowed) {\n",
       "        return;\n",
       "      }\n",
       "      const div = document.createElement('div');\n",
       "      const label = document.createElement('label');\n",
       "      label.textContent = `Downloading \"${filename}\": `;\n",
       "      div.appendChild(label);\n",
       "      const progress = document.createElement('progress');\n",
       "      progress.max = size;\n",
       "      div.appendChild(progress);\n",
       "      document.body.appendChild(div);\n",
       "\n",
       "      const buffers = [];\n",
       "      let downloaded = 0;\n",
       "\n",
       "      const channel = await google.colab.kernel.comms.open(id);\n",
       "      // Send a message to notify the kernel that we're ready.\n",
       "      channel.send({})\n",
       "\n",
       "      for await (const message of channel.messages) {\n",
       "        // Send a message to notify the kernel that we're ready.\n",
       "        channel.send({})\n",
       "        if (message.buffers) {\n",
       "          for (const buffer of message.buffers) {\n",
       "            buffers.push(buffer);\n",
       "            downloaded += buffer.byteLength;\n",
       "            progress.value = downloaded;\n",
       "          }\n",
       "        }\n",
       "      }\n",
       "      const blob = new Blob(buffers, {type: 'application/binary'});\n",
       "      const a = document.createElement('a');\n",
       "      a.href = window.URL.createObjectURL(blob);\n",
       "      a.download = filename;\n",
       "      div.appendChild(a);\n",
       "      a.click();\n",
       "      div.remove();\n",
       "    }\n",
       "  "
      ],
      "text/plain": [
       "<IPython.core.display.Javascript object>"
      ]
     },
     "metadata": {},
     "output_type": "display_data"
    },
    {
     "data": {
      "application/javascript": [
       "download(\"download_84406716-d26d-47ab-8bb0-f5b13d5fba5a\", \"MMC_tweets.json\", 2014729)"
      ],
      "text/plain": [
       "<IPython.core.display.Javascript object>"
      ]
     },
     "metadata": {},
     "output_type": "display_data"
    },
    {
     "name": "stdout",
     "output_type": "stream",
     "text": [
      "mmCineplexes's all tweets downloaded.\n"
     ]
    }
   ],
   "source": [
    "tweets = []\n",
    "count = 100\n",
    "startDate = datetime.datetime(2022,3,7) #The date contains year, month, day, hour, minute, second, and microsecond.\n",
    "endDate = datetime.datetime(2022,3,21)\n",
    "\n",
    "# This section is for you to learn about how the arrays in python function when using Tweepy\n",
    "def queryTimeline(username,filename):\n",
    "  result = api.user_timeline(username,count=count)\n",
    "  for t in result:\n",
    "    if t.created_at < endDate:# and t.in_reply_to_status_id == None:\n",
    "      tweets.append(t)\n",
    "\n",
    "  while(result[-1].created_at >= startDate):#\n",
    "    # time.sleep(3)\n",
    "    print('Last tweet collected was created at',result[-1].created_at,'Retrieving more')\n",
    "    result = api.user_timeline(username,count=count,max_id=result[-1].id-1)\n",
    "    for t in result:\n",
    "      if t.created_at >= startDate:# and t.in_reply_to_status_id == None:\n",
    "        tweets.append(t)\n",
    "\n",
    "  #json file\n",
    "  with open(filename,'w') as f:\n",
    "    for t in tweets:\n",
    "      f.write(json.dumps(t._json)+'\\n')\n",
    "  \n",
    "  files.download(filename)\n",
    "  print(username+'\\'s all tweets downloaded.')\n",
    "\n",
    "queryTimeline(username_gsc,'GSC_tweets.json')\n",
    "queryTimeline(username_tgv,'TGV_tweets.json')\n",
    "queryTimeline(username_mmc,'MMC_tweets.json')"
   ]
  },
  {
   "cell_type": "markdown",
   "metadata": {
    "id": "TvG1pLm9JzzR"
   },
   "source": [
    "# 1. Followers growth rate from 2022-03-07 to 2022-03-20 (Need to collect daily)"
   ]
  },
  {
   "cell_type": "code",
   "execution_count": null,
   "metadata": {
    "colab": {
     "base_uri": "https://localhost:8080/",
     "height": 17
    },
    "id": "BUqo5TQnMK7x",
    "outputId": "742b635f-3c7d-41d6-8377-38f163e28f1a"
   },
   "outputs": [
    {
     "data": {
      "application/javascript": [
       "\n",
       "    async function download(id, filename, size) {\n",
       "      if (!google.colab.kernel.accessAllowed) {\n",
       "        return;\n",
       "      }\n",
       "      const div = document.createElement('div');\n",
       "      const label = document.createElement('label');\n",
       "      label.textContent = `Downloading \"${filename}\": `;\n",
       "      div.appendChild(label);\n",
       "      const progress = document.createElement('progress');\n",
       "      progress.max = size;\n",
       "      div.appendChild(progress);\n",
       "      document.body.appendChild(div);\n",
       "\n",
       "      const buffers = [];\n",
       "      let downloaded = 0;\n",
       "\n",
       "      const channel = await google.colab.kernel.comms.open(id);\n",
       "      // Send a message to notify the kernel that we're ready.\n",
       "      channel.send({})\n",
       "\n",
       "      for await (const message of channel.messages) {\n",
       "        // Send a message to notify the kernel that we're ready.\n",
       "        channel.send({})\n",
       "        if (message.buffers) {\n",
       "          for (const buffer of message.buffers) {\n",
       "            buffers.push(buffer);\n",
       "            downloaded += buffer.byteLength;\n",
       "            progress.value = downloaded;\n",
       "          }\n",
       "        }\n",
       "      }\n",
       "      const blob = new Blob(buffers, {type: 'application/binary'});\n",
       "      const a = document.createElement('a');\n",
       "      a.href = window.URL.createObjectURL(blob);\n",
       "      a.download = filename;\n",
       "      div.appendChild(a);\n",
       "      a.click();\n",
       "      div.remove();\n",
       "    }\n",
       "  "
      ],
      "text/plain": [
       "<IPython.core.display.Javascript object>"
      ]
     },
     "metadata": {},
     "output_type": "display_data"
    },
    {
     "data": {
      "application/javascript": [
       "download(\"download_47cd4853-a778-466a-b3cc-199bedc04444\", \"GSC_audience_growth_rate_20220321.json\", 50)"
      ],
      "text/plain": [
       "<IPython.core.display.Javascript object>"
      ]
     },
     "metadata": {},
     "output_type": "display_data"
    },
    {
     "data": {
      "application/javascript": [
       "\n",
       "    async function download(id, filename, size) {\n",
       "      if (!google.colab.kernel.accessAllowed) {\n",
       "        return;\n",
       "      }\n",
       "      const div = document.createElement('div');\n",
       "      const label = document.createElement('label');\n",
       "      label.textContent = `Downloading \"${filename}\": `;\n",
       "      div.appendChild(label);\n",
       "      const progress = document.createElement('progress');\n",
       "      progress.max = size;\n",
       "      div.appendChild(progress);\n",
       "      document.body.appendChild(div);\n",
       "\n",
       "      const buffers = [];\n",
       "      let downloaded = 0;\n",
       "\n",
       "      const channel = await google.colab.kernel.comms.open(id);\n",
       "      // Send a message to notify the kernel that we're ready.\n",
       "      channel.send({})\n",
       "\n",
       "      for await (const message of channel.messages) {\n",
       "        // Send a message to notify the kernel that we're ready.\n",
       "        channel.send({})\n",
       "        if (message.buffers) {\n",
       "          for (const buffer of message.buffers) {\n",
       "            buffers.push(buffer);\n",
       "            downloaded += buffer.byteLength;\n",
       "            progress.value = downloaded;\n",
       "          }\n",
       "        }\n",
       "      }\n",
       "      const blob = new Blob(buffers, {type: 'application/binary'});\n",
       "      const a = document.createElement('a');\n",
       "      a.href = window.URL.createObjectURL(blob);\n",
       "      a.download = filename;\n",
       "      div.appendChild(a);\n",
       "      a.click();\n",
       "      div.remove();\n",
       "    }\n",
       "  "
      ],
      "text/plain": [
       "<IPython.core.display.Javascript object>"
      ]
     },
     "metadata": {},
     "output_type": "display_data"
    },
    {
     "data": {
      "application/javascript": [
       "download(\"download_66d91abe-0419-4b8b-8ba6-85ae43475739\", \"MMC_audience_growth_rate_20220321.json\", 48)"
      ],
      "text/plain": [
       "<IPython.core.display.Javascript object>"
      ]
     },
     "metadata": {},
     "output_type": "display_data"
    }
   ],
   "source": [
    "def getFollowersNum(screen_name,filename):\n",
    "  userDetails = api.get_user(screen_name)\n",
    "  user = {}\n",
    "\n",
    "  # yesterday = datetime.datetime.now() - datetime.timedelta(days=1)#.replace(tzinfo=utc)\n",
    "  dt_string = datetime.datetime.now().strftime(\"%Y-%m-%d\")\n",
    "\n",
    "  followers_count = userDetails.followers_count\n",
    "\n",
    "  user['date'] = dt_string\n",
    "  user['followers_count'] = followers_count\n",
    "  \n",
    "  dt_string2 = datetime.datetime.now().strftime(\"%Y%m%d\")\n",
    "  with open(filename+'_audience_growth_rate_'+dt_string2+'.json','w') as f:\n",
    "    f.write(json.dumps(user)+'\\n')\n",
    "\n",
    "  files.download(filename+'_audience_growth_rate_'+dt_string2+'.json')\n",
    "\n",
    "getFollowersNum(username_gsc,\"GSC\")\n",
    "getFollowersNum(username_tgv,\"TGV\")\n",
    "getFollowersNum(username_mmc,\"MMC\")"
   ]
  },
  {
   "cell_type": "markdown",
   "metadata": {
    "id": "O1zl1LpbiEZO"
   },
   "source": [
    "**Plot 2 charts for all cinema: line charts that all 14 days data and another is % change of followers for first and last day (use the xxx_followers.json)"
   ]
  },
  {
   "cell_type": "markdown",
   "metadata": {
    "id": "Q0DlWcX5Oj48"
   },
   "source": [
    "# 2. Active rate (Tweets per day: line chart)"
   ]
  },
  {
   "cell_type": "code",
   "execution_count": null,
   "metadata": {
    "colab": {
     "base_uri": "https://localhost:8080/",
     "height": 857
    },
    "id": "5vi428zGbrUr",
    "outputId": "510a0bf4-eac8-4793-ab10-b35cf3d14a30"
   },
   "outputs": [
    {
     "data": {
      "image/png": "[encoded data removed]",
      "text/plain": [
       "<Figure size 432x288 with 1 Axes>"
      ]
     },
     "metadata": {
      "needs_background": "light"
     },
     "output_type": "display_data"
    },
    {
     "data": {
      "image/png": "[encoded data removed]",
      "text/plain": [
       "<Figure size 432x288 with 1 Axes>"
      ]
     },
     "metadata": {
      "needs_background": "light"
     },
     "output_type": "display_data"
    },
    {
     "data": {
      "image/png": "[encoded data removed]",
      "text/plain": [
       "<Figure size 432x288 with 1 Axes>"
      ]
     },
     "metadata": {
      "needs_background": "light"
     },
     "output_type": "display_data"
    }
   ],
   "source": [
    "def active_rate(filename):\n",
    "  # get date from tweets collected\n",
    "  tweets_date = []\n",
    "  utc = pytz.UTC\n",
    "\n",
    "  with open(filename,'r') as f:\n",
    "    for line in f:\n",
    "      obj = json.loads(line)\n",
    "\n",
    "      if obj['in_reply_to_status_id'] == None and obj['text'][:2] != 'RT': # self tweet\n",
    "        dt = parse(obj['created_at']).replace(tzinfo=utc)\n",
    "        tweets_date.append(dt)\n",
    "\n",
    "  # dataframe for tweets posted each day\n",
    "  startDate = datetime.datetime(2022,3,7) #The date contains year, month, day, hour, minute, second, and microsecond.\n",
    "  date_list = []\n",
    "  count_list = []\n",
    "  utc=pytz.UTC\n",
    "  count_day = 1\n",
    "\n",
    "  current_date = startDate.replace(tzinfo=utc)\n",
    "\n",
    "  while count_day <= 14:\n",
    "    next_date = (current_date + datetime.timedelta(days=1)).replace(tzinfo=utc)\n",
    "    counter = 0\n",
    "\n",
    "    for date in tweets_date:\n",
    "      if date >= current_date and date < next_date:\n",
    "        counter += 1\n",
    "\n",
    "    date_string = current_date.strftime(\"%Y-%m-%d\")\n",
    "    date_list.append(date_string)\n",
    "    count_list.append(counter)\n",
    "\n",
    "    current_date = next_date\n",
    "    count_day += 1\n",
    "\n",
    "  df = pd.DataFrame({'Date':date_list,'Tweets posted':count_list})\n",
    "  tweets_per_day_gsc = sns.lineplot(data=df, x=\"Date\", y=\"Tweets posted\")\n",
    "  plt.xticks(rotation=90)\n",
    "  plt.ylim(0,15)\n",
    "  plt.tight_layout()\n",
    "  plt.show()\n",
    "\n",
    "active_rate('/content/GSC_tweets.json')\n",
    "active_rate('/content/TGV_tweets.json')\n",
    "active_rate('/content/MMC_tweets.json')"
   ]
  },
  {
   "cell_type": "markdown",
   "metadata": {
    "id": "Ywj88DuOi0jl"
   },
   "source": [
    "**see you want plot 3 line charts liddis or 3 in one charts then separate with dif colors, easier to compare"
   ]
  },
  {
   "cell_type": "markdown",
   "metadata": {
    "id": "Ivv1j1h6-POo"
   },
   "source": [
    "# 3. Responsiveness"
   ]
  },
  {
   "cell_type": "code",
   "execution_count": null,
   "metadata": {
    "colab": {
     "base_uri": "https://localhost:8080/"
    },
    "id": "nVottGafVIEe",
    "outputId": "6f3af60c-78b3-4188-9076-097e7476ba55"
   },
   "outputs": [
    {
     "name": "stdout",
     "output_type": "stream",
     "text": [
      "Not authorised to access this tweet.\n",
      "Not authorised to access this tweet.\n",
      "Not authorised to access this tweet.\n",
      "Not authorised to access this tweet.\n",
      "Not authorised to access this tweet.\n",
      "Not authorised to access this tweet.\n",
      "Not authorised to access this tweet.\n",
      "Not authorised to access this tweet.\n",
      "Not authorised to access this tweet.\n",
      "Not authorised to access this tweet.\n",
      "GSC average replied in 11 hours for 171 tweets\n",
      "\n",
      "Not authorised to access this tweet.\n",
      "Not authorised to access this tweet.\n",
      "Not authorised to access this tweet.\n",
      "Not authorised to access this tweet.\n",
      "Not authorised to access this tweet.\n",
      "Not authorised to access this tweet.\n",
      "Not authorised to access this tweet.\n",
      "Not authorised to access this tweet.\n",
      "Not authorised to access this tweet.\n",
      "Not authorised to access this tweet.\n",
      "Not authorised to access this tweet.\n",
      "Not authorised to access this tweet.\n",
      "Not authorised to access this tweet.\n",
      "Not authorised to access this tweet.\n",
      "Not authorised to access this tweet.\n",
      "Not authorised to access this tweet.\n",
      "Not authorised to access this tweet.\n",
      "Not authorised to access this tweet.\n",
      "Not authorised to access this tweet.\n",
      "Not authorised to access this tweet.\n",
      "Not authorised to access this tweet.\n",
      "TGV average replied in 8 hours for 301 tweets\n",
      "\n",
      "Not authorised to access this tweet.\n",
      "Not authorised to access this tweet.\n",
      "Not authorised to access this tweet.\n",
      "Not authorised to access this tweet.\n",
      "Not authorised to access this tweet.\n",
      "Not authorised to access this tweet.\n",
      "Not authorised to access this tweet.\n",
      "Not authorised to access this tweet.\n",
      "Not authorised to access this tweet.\n",
      "Not authorised to access this tweet.\n",
      "Not authorised to access this tweet.\n",
      "Not authorised to access this tweet.\n",
      "Not authorised to access this tweet.\n",
      "Not authorised to access this tweet.\n",
      "Not authorised to access this tweet.\n",
      "Not authorised to access this tweet.\n",
      "Not authorised to access this tweet.\n",
      "Not authorised to access this tweet.\n",
      "Not authorised to access this tweet.\n",
      "Not authorised to access this tweet.\n",
      "Not authorised to access this tweet.\n",
      "MMC average replied in 8 hours for 306 tweets\n",
      "\n"
     ]
    }
   ],
   "source": [
    "avg_response_time = []\n",
    "reply_count_list = []\n",
    "\n",
    "def responsiveness(name):\n",
    "  reply_time = datetime.timedelta(seconds=0)\n",
    "  reply_count = 0\n",
    "\n",
    "  with open('/content/'+name+'_tweets.json','r') as f:\n",
    "    for line in f:\n",
    "      obj = json.loads(line)\n",
    "      if obj['in_reply_to_status_id'] != None and obj['text'][:2] != 'RT': # replies and not retweet\n",
    "\n",
    "        try:\n",
    "          tweet = api.get_status(id=obj['in_reply_to_status_id'])._json\n",
    "          tweet_created_at = datetime.datetime.strptime(tweet['created_at'], '%a %b %d %H:%M:%S %z %Y')\n",
    "          reply_created_at = datetime.datetime.strptime(obj['created_at'], '%a %b %d %H:%M:%S %z %Y')\n",
    "          # print('created:',tweet_created_at)\n",
    "          # print('replied:',reply_created_at)\n",
    "          # print()\n",
    "          reply_time += (reply_created_at - tweet_created_at)\n",
    "          reply_count += 1\n",
    "        except:\n",
    "          print('Not authorised to access this tweet.')\n",
    "\n",
    "  time = math.floor(reply_time.total_seconds()/60/60/reply_count)\n",
    "  avg_response_time.append(time)\n",
    "  reply_count_list.append(reply_count)\n",
    "  print(name,'average replied in',time,'hours for',reply_count,'tweets')\n",
    "  print()\n",
    "\n",
    "responsiveness('GSC')\n",
    "responsiveness('TGV')\n",
    "responsiveness('MMC')"
   ]
  },
  {
   "cell_type": "code",
   "execution_count": null,
   "metadata": {
    "colab": {
     "base_uri": "https://localhost:8080/",
     "height": 143
    },
    "id": "vtuEW9qiTXbZ",
    "outputId": "360ea7a3-8d18-426f-f846-6915e93c5741"
   },
   "outputs": [
    {
     "data": {
      "text/html": [
       "\n",
       "  <div id=\"df-2da4e130-13e4-4963-a756-11aab841ce42\">\n",
       "    <div class=\"colab-df-container\">\n",
       "      <div>\n",
       "<style scoped>\n",
       "    .dataframe tbody tr th:only-of-type {\n",
       "        vertical-align: middle;\n",
       "    }\n",
       "\n",
       "    .dataframe tbody tr th {\n",
       "        vertical-align: top;\n",
       "    }\n",
       "\n",
       "    .dataframe thead th {\n",
       "        text-align: right;\n",
       "    }\n",
       "</style>\n",
       "<table border=\"1\" class=\"dataframe\">\n",
       "  <thead>\n",
       "    <tr style=\"text-align: right;\">\n",
       "      <th></th>\n",
       "      <th>Cinema</th>\n",
       "      <th>Average response time (hour)</th>\n",
       "      <th>Responsed tweets</th>\n",
       "    </tr>\n",
       "  </thead>\n",
       "  <tbody>\n",
       "    <tr>\n",
       "      <th>0</th>\n",
       "      <td>GSC</td>\n",
       "      <td>11</td>\n",
       "      <td>171</td>\n",
       "    </tr>\n",
       "    <tr>\n",
       "      <th>1</th>\n",
       "      <td>TGV</td>\n",
       "      <td>8</td>\n",
       "      <td>301</td>\n",
       "    </tr>\n",
       "    <tr>\n",
       "      <th>2</th>\n",
       "      <td>MMC</td>\n",
       "      <td>8</td>\n",
       "      <td>306</td>\n",
       "    </tr>\n",
       "  </tbody>\n",
       "</table>\n",
       "</div>\n",
       "      <button class=\"colab-df-convert\" onclick=\"convertToInteractive('df-2da4e130-13e4-4963-a756-11aab841ce42')\"\n",
       "              title=\"Convert this dataframe to an interactive table.\"\n",
       "              style=\"display:none;\">\n",
       "        \n",
       "  <svg xmlns=\"http://www.w3.org/2000/svg\" height=\"24px\"viewBox=\"0 0 24 24\"\n",
       "       width=\"24px\">\n",
       "    <path d=\"M0 0h24v24H0V0z\" fill=\"none\"/>\n",
       "    <path d=\"M18.56 5.44l.94 2.06.94-2.06 2.06-.94-2.06-.94-.94-2.06-.94 2.06-2.06.94zm-11 1L8.5 8.5l.94-2.06 2.06-.94-2.06-.94L8.5 2.5l-.94 2.06-2.06.94zm10 10l.94 2.06.94-2.06 2.06-.94-2.06-.94-.94-2.06-.94 2.06-2.06.94z\"/><path d=\"M17.41 7.96l-1.37-1.37c-.4-.4-.92-.59-1.43-.59-.52 0-1.04.2-1.43.59L10.3 9.45l-7.72 7.72c-.78.78-.78 2.05 0 2.83L4 21.41c.39.39.9.59 1.41.59.51 0 1.02-.2 1.41-.59l7.78-7.78 2.81-2.81c.8-.78.8-2.07 0-2.86zM5.41 20L4 18.59l7.72-7.72 1.47 1.35L5.41 20z\"/>\n",
       "  </svg>\n",
       "      </button>\n",
       "      \n",
       "  <style>\n",
       "    .colab-df-container {\n",
       "      display:flex;\n",
       "      flex-wrap:wrap;\n",
       "      gap: 12px;\n",
       "    }\n",
       "\n",
       "    .colab-df-convert {\n",
       "      background-color: #E8F0FE;\n",
       "      border: none;\n",
       "      border-radius: 50%;\n",
       "      cursor: pointer;\n",
       "      display: none;\n",
       "      fill: #1967D2;\n",
       "      height: 32px;\n",
       "      padding: 0 0 0 0;\n",
       "      width: 32px;\n",
       "    }\n",
       "\n",
       "    .colab-df-convert:hover {\n",
       "      background-color: #E2EBFA;\n",
       "      box-shadow: 0px 1px 2px rgba(60, 64, 67, 0.3), 0px 1px 3px 1px rgba(60, 64, 67, 0.15);\n",
       "      fill: #174EA6;\n",
       "    }\n",
       "\n",
       "    [theme=dark] .colab-df-convert {\n",
       "      background-color: #3B4455;\n",
       "      fill: #D2E3FC;\n",
       "    }\n",
       "\n",
       "    [theme=dark] .colab-df-convert:hover {\n",
       "      background-color: #434B5C;\n",
       "      box-shadow: 0px 1px 3px 1px rgba(0, 0, 0, 0.15);\n",
       "      filter: drop-shadow(0px 1px 2px rgba(0, 0, 0, 0.3));\n",
       "      fill: #FFFFFF;\n",
       "    }\n",
       "  </style>\n",
       "\n",
       "      <script>\n",
       "        const buttonEl =\n",
       "          document.querySelector('#df-2da4e130-13e4-4963-a756-11aab841ce42 button.colab-df-convert');\n",
       "        buttonEl.style.display =\n",
       "          google.colab.kernel.accessAllowed ? 'block' : 'none';\n",
       "\n",
       "        async function convertToInteractive(key) {\n",
       "          const element = document.querySelector('#df-2da4e130-13e4-4963-a756-11aab841ce42');\n",
       "          const dataTable =\n",
       "            await google.colab.kernel.invokeFunction('convertToInteractive',\n",
       "                                                     [key], {});\n",
       "          if (!dataTable) return;\n",
       "\n",
       "          const docLinkHtml = 'Like what you see? Visit the ' +\n",
       "            '<a target=\"_blank\" href=https://colab.research.google.com/notebooks/data_table.ipynb>data table notebook</a>'\n",
       "            + ' to learn more about interactive tables.';\n",
       "          element.innerHTML = '';\n",
       "          dataTable['output_type'] = 'display_data';\n",
       "          await google.colab.output.renderOutput(dataTable, element);\n",
       "          const docLink = document.createElement('div');\n",
       "          docLink.innerHTML = docLinkHtml;\n",
       "          element.appendChild(docLink);\n",
       "        }\n",
       "      </script>\n",
       "    </div>\n",
       "  </div>\n",
       "  "
      ],
      "text/plain": [
       "  Cinema  Average response time (hour)  Responsed tweets\n",
       "0    GSC                            11               171\n",
       "1    TGV                             8               301\n",
       "2    MMC                             8               306"
      ]
     },
     "execution_count": 78,
     "metadata": {},
     "output_type": "execute_result"
    }
   ],
   "source": [
    "df = pd.DataFrame({'Cinema':['GSC','TGV','MMC'],'Average response time (hour)':avg_response_time,'Responsed tweets':reply_count_list})\n",
    "df"
   ]
  },
  {
   "cell_type": "markdown",
   "metadata": {
    "id": "m-hzCvIxjAkC"
   },
   "source": [
    "**Plot a bar chart"
   ]
  },
  {
   "cell_type": "markdown",
   "metadata": {
    "id": "Tpg3CNqyt1F_"
   },
   "source": [
    "# 4. Engagement rate per day (likes, retweets)"
   ]
  },
  {
   "cell_type": "markdown",
   "metadata": {
    "id": "YeNaO6nSxq16"
   },
   "source": [
    "Engagement rates between 0.02% and 0.09% are considered to be good. An influencer with a good engagement rate on Twitter could expect between 0.2 - 0.9 reactions for every 1000 followers.\n",
    "\n",
    "From: https://scrunch.com/blog/what-is-a-good-engagement-rate-on-twitter/"
   ]
  },
  {
   "cell_type": "markdown",
   "metadata": {
    "id": "mKQrB6kX0ynA"
   },
   "source": [
    "Formula: https://www.socialinsider.io/blog/content/images/2022/01/74.png\n",
    "\n",
    "From: https://www.socialinsider.io/blog/engagement-rate/"
   ]
  },
  {
   "cell_type": "code",
   "execution_count": null,
   "metadata": {
    "colab": {
     "base_uri": "https://localhost:8080/"
    },
    "id": "5dgmnc6FngUX",
    "outputId": "f54402ac-5c7b-4349-fe84-8e1ea3400b56"
   },
   "outputs": [
    {
     "name": "stdout",
     "output_type": "stream",
     "text": [
      "Total tweets: 47\n",
      "GSC Engagement rate: 0.12767631890335113 %\n",
      "Total tweets: 135\n",
      "TGV Engagement rate: 0.13318889018434313 %\n",
      "Total tweets: 221\n",
      "MMC Engagement rate: 0.11802848510459152 %\n"
     ]
    }
   ],
   "source": [
    "def engagement_rate(filename,name):\n",
    "  favCount = retweetCount = total_tweet = 0\n",
    "  followers_count = 182976 ################################################## THIS JUST EXAMPLE, need take the last day followers count from the data collected\n",
    "\n",
    "  with open(filename) as f:\n",
    "    for line in f:\n",
    "      tweet = json.loads(line)\n",
    "\n",
    "      if tweet['in_reply_to_status_id'] == None: #self tweet or retweet, not reply\n",
    "        total_tweet += 1\n",
    "        favCount += tweet['favorite_count']\n",
    "        retweetCount += tweet['retweet_count']\n",
    "\n",
    "  engagement = (favCount + retweetCount) / total_tweet / followers_count * 100\n",
    "  print('Total tweets:',total_tweet)\n",
    "  print(name+' Engagement rate:',engagement,'%')\n",
    "\n",
    "engagement_rate('/content/GSC_tweets.json','GSC')\n",
    "# engagement_rate('/content/TGV_tweets.json','TGV')\n",
    "# engagement_rate('/content/MMC_tweets.json','MMC')\n"
   ]
  },
  {
   "cell_type": "markdown",
   "metadata": {
    "id": "TBVFxZh6kw6j"
   },
   "source": [
    "**Plot a bar chart to compare"
   ]
  },
  {
   "cell_type": "markdown",
   "metadata": {
    "id": "ZLE1fSY51L81"
   },
   "source": [
    "# 5. Top 5 hashtag used"
   ]
  },
  {
   "cell_type": "code",
   "execution_count": null,
   "metadata": {
    "colab": {
     "base_uri": "https://localhost:8080/"
    },
    "id": "kh0xmNVN1cM7",
    "outputId": "1292191c-6479-436c-aecf-78760566d504"
   },
   "outputs": [
    {
     "name": "stdout",
     "output_type": "stream",
     "text": [
      "TheBatman 28\n",
      "FantasticBeasts 3\n",
      "BacktoGSC 3\n",
      "GSC 2\n",
      "BulletTrainMovie 2\n"
     ]
    }
   ],
   "source": [
    "from collections import Counter\n",
    "\n",
    "def getTags(tweet):\n",
    "  entity = tweet.get('entities',{})\n",
    "  ht = entity.get('hashtags',[])\n",
    "  return [tag['text'] for tag in ht]\n",
    "\n",
    "def getTopHashTags(filename,n,name):# sortedfood\n",
    "  htags = Counter()\n",
    "\n",
    "  with open(filename) as f:\n",
    "    for line in f:\n",
    "      tweet = json.loads(line)\n",
    "      if tweet['in_reply_to_status_id'] == None:\n",
    "        htags.update(getTags(tweet))\n",
    "\n",
    "  for tag, count in htags.most_common(n):\n",
    "    print(tag,count)\n",
    "\n",
    "getTopHashTags('/content/GSC_tweets.json',5,'GSC')\n",
    "# getTopHashTags('/content/TGV_tweets.json',5,'TGV')\n",
    "# getTopHashTags('/content/MMC_tweets.json',5,'MMC')"
   ]
  },
  {
   "cell_type": "markdown",
   "metadata": {
    "id": "Kk-s6oCTk1Tt"
   },
   "source": [
    "**Plot 3 bar charts to compare"
   ]
  },
  {
   "cell_type": "markdown",
   "metadata": {
    "id": "Tez4_Y1EIkhl"
   },
   "source": [
    "# Part 2 "
   ]
  },
  {
   "cell_type": "markdown",
   "metadata": {
    "id": "RkURAbRQsUdZ"
   },
   "source": [
    "# Data collection (Limits: 3.5k because MMC has lesser followers)"
   ]
  },
  {
   "cell_type": "code",
   "execution_count": null,
   "metadata": {
    "id": "UAJqKMtSIjwq"
   },
   "outputs": [],
   "source": [
    "usernames = [username_gsc,username_tgv,username_mmc]\n",
    "\n",
    "for username in usernames:\n",
    "  with open(username+'_followers.json','w') as f:\n",
    "    for page in tweepy.Cursor(api.followers, screen_name=username,count=100).pages(35):\n",
    "      for user in page:\n",
    "        f.write(json.dumps(user._json)+'\\n')\n",
    "\n",
    "  files.download(username+'_followers.json')"
   ]
  },
  {
   "cell_type": "markdown",
   "metadata": {
    "id": "a34MuLinseRY"
   },
   "source": [
    "# Generate the node and edgelists from the data collected"
   ]
  },
  {
   "cell_type": "markdown",
   "metadata": {
    "id": "mF07-OITsftS"
   },
   "source": [
    "# From the data collected, identify profiles that are following more than one brand/twitter account in your domain – categorise them and provide a conclusion/report on the findings you obtain here (e.g. following two brands, following three brands, etc.)"
   ]
  },
  {
   "cell_type": "markdown",
   "metadata": {
    "id": "An7NK09WsiXe"
   },
   "source": [
    "# From these categories of profiles, what other similarities can you identify from the information you can extract? How would this information be useful to your domain?"
   ]
  }
 ],
 "metadata": {
  "colab": {
   "collapsed_sections": [
    "ree8AEpA-mEI",
    "TvG1pLm9JzzR",
    "Q0DlWcX5Oj48",
    "Ivv1j1h6-POo",
    "Tpg3CNqyt1F_",
    "ZLE1fSY51L81"
   ],
   "name": "SMC Ass.ipynb",
   "provenance": []
  },
  "kernelspec": {
   "display_name": "Python 3 (ipykernel)",
   "language": "python",
   "name": "python3"
  },
  "language_info": {
   "codemirror_mode": {
    "name": "ipython",
    "version": 3
   },
   "file_extension": ".py",
   "mimetype": "text/x-python",
   "name": "python",
   "nbconvert_exporter": "python",
   "pygments_lexer": "ipython3",
   "version": "3.8.8"
  }
 },
 "nbformat": 4,
 "nbformat_minor": 1
}
